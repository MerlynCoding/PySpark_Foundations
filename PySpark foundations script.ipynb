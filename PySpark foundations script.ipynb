{
 "cells": [
  {
   "cell_type": "markdown",
   "id": "ab05ceb9-c258-4a22-bafe-1aa335d40b8f",
   "metadata": {},
   "source": [
    "# Process, analyze, and summarize data with Spark and PySpark"
   ]
  },
  {
   "cell_type": "markdown",
   "id": "e794cc26-aa69-4047-a690-2a342ebb524a",
   "metadata": {},
   "source": [
    "## Project Description\n",
    "\n",
    "Did you know that a billion records are processed daily in PySpark by companies worldwide? As big data is on the rise, you’ll need tools like PySpark to process massive amounts of data.\n",
    "\n",
    "This guided project was designed to introduce data analysts and data science beginners to data analysis in PySpark. This 2-hour project course teaches you how to create a PySpark environment, explore and clean large data, aggregate and summarize data, and visualize data using real-life examples. By the end of this guided project, you’ll create a Jupyter Notebook that processes, analyzes, and summarizes data using PySpark. By working on hands-on tasks, you will gain a solid knowledge of data aggregation and summarization with PySpark, helping you acquire job-ready skills. \n",
    "\n",
    "You don’t need any experience in PySpark, but knowledge of Python is essential to succeeding in this project."
   ]
  },
  {
   "cell_type": "markdown",
   "id": "156abaa0-8a56-4155-b441-18af5eeeacae",
   "metadata": {},
   "source": [
    "## Project Overview\n",
    "This project demonstrates how to process and analyze large datasets using PySpark, focusing on employees data. Tasks include data loading, cleaning, exploration, and aggregation, culminating in insights on employee salaries and demographics.\n",
    "\n",
    "### About the Dataset\n",
    "**employees.csv**: Contains employee details like employee numbers, names, birth dates, hire dates, etc.\n",
    "\n",
    "**updated_salaries.csv**: Contains salary details for each employee, including salary amounts and dates."
   ]
  },
  {
   "cell_type": "markdown",
   "id": "f9cd3c17-248d-4808-956f-21c01eff8e2d",
   "metadata": {},
   "source": [
    "# Task One: Set up and overview of the project\n",
    "In this task, you will get an overview of the project and set up the PySpark environment."
   ]
  },
  {
   "cell_type": "code",
   "execution_count": 55,
   "id": "b5cd815f-63b3-4e74-9b53-35237b7383da",
   "metadata": {},
   "outputs": [],
   "source": [
    "## Import required libraries\n",
    "import pandas as pd\n",
    "import matplotlib.pyplot as plt\n",
    "import seaborn as sns\n",
    "from pyspark.sql.functions import col, avg, max, min, countDistinct, sum, round"
   ]
  },
  {
   "cell_type": "code",
   "execution_count": 56,
   "id": "5e15426d-f29a-44b3-9335-9e64b31a7ed5",
   "metadata": {},
   "outputs": [],
   "source": [
    "## Set up PySpark environment\n",
    "from pyspark.sql import SparkSession"
   ]
  },
  {
   "cell_type": "code",
   "execution_count": 57,
   "id": "6c6ea312-498a-43f1-b68e-12d75abb805b",
   "metadata": {},
   "outputs": [
    {
     "data": {
      "text/html": [
       "\n",
       "            <div>\n",
       "                <p><b>SparkSession - in-memory</b></p>\n",
       "                \n",
       "        <div>\n",
       "            <p><b>SparkContext</b></p>\n",
       "\n",
       "            <p><a href=\"http://904ca80fd0fe:4040\">Spark UI</a></p>\n",
       "\n",
       "            <dl>\n",
       "              <dt>Version</dt>\n",
       "                <dd><code>v3.5.3</code></dd>\n",
       "              <dt>Master</dt>\n",
       "                <dd><code>local[*]</code></dd>\n",
       "              <dt>AppName</dt>\n",
       "                <dd><code>PySpark Foundations</code></dd>\n",
       "            </dl>\n",
       "        </div>\n",
       "        \n",
       "            </div>\n",
       "        "
      ],
      "text/plain": [
       "<pyspark.sql.session.SparkSession at 0x76b531ef30a0>"
      ]
     },
     "execution_count": 57,
     "metadata": {},
     "output_type": "execute_result"
    }
   ],
   "source": [
    "## Initialize the SparkSession\n",
    "spark=(SparkSession.builder\n",
    "       .appName(\"PySpark Foundations\")\n",
    "       .getOrCreate())\n",
    "\n",
    "## Verify that SparkSession is created\n",
    "spark"
   ]
  },
  {
   "cell_type": "markdown",
   "id": "777bfd46-805d-466f-b6f7-9e0db5113efa",
   "metadata": {},
   "source": [
    "# Task Two: Load the data\n",
    "In this task, you will load the employees.csv and updated_salaries.csv data."
   ]
  },
  {
   "cell_type": "code",
   "execution_count": 58,
   "id": "3021b17b-9829-4cdb-921e-3c66d7744071",
   "metadata": {},
   "outputs": [
    {
     "name": "stderr",
     "output_type": "stream",
     "text": [
      "[Stage 115:============================>                            (1 + 1) / 2]\r"
     ]
    },
    {
     "name": "stdout",
     "output_type": "stream",
     "text": [
      "employee data loaded successfully\n"
     ]
    },
    {
     "name": "stderr",
     "output_type": "stream",
     "text": [
      "                                                                                \r"
     ]
    }
   ],
   "source": [
    "## Load the employees.csv dataset\n",
    "try :\n",
    "    emp_df=spark.read.csv('employees.csv',header=True,inferSchema=True)\n",
    "    print('employee data loaded successfully')\n",
    "except Exception as e:\n",
    "    print ('eror data : ',e)"
   ]
  },
  {
   "cell_type": "code",
   "execution_count": 59,
   "id": "2b6f5c39-3b6d-48f7-8196-64dd2f2216aa",
   "metadata": {},
   "outputs": [
    {
     "name": "stderr",
     "output_type": "stream",
     "text": [
      "                                                                                \r"
     ]
    }
   ],
   "source": [
    "## Load the updated_salaries.csv dataset\n",
    "sal_df = spark.read.format(\"csv\") \\\n",
    "    .option(\"header\", \"True\") \\\n",
    "    .option(\"inferSchema\", \"True\") \\\n",
    "    .load(\"updated_salaries.csv\")\n",
    "\n"
   ]
  },
  {
   "cell_type": "code",
   "execution_count": 60,
   "id": "a403c092-bf3f-473a-9c36-d468f6e37baf",
   "metadata": {},
   "outputs": [
    {
     "name": "stdout",
     "output_type": "stream",
     "text": [
      "+------+----------+----------+---------+------+----------+\n",
      "|emp_no|birth_date|first_name|last_name|gender| hire_date|\n",
      "+------+----------+----------+---------+------+----------+\n",
      "| 10001|1953-09-02|    Georgi|  Facello|     M|1986-06-26|\n",
      "| 10002|1964-06-02|   Bezalel|   Simmel|     F|1985-11-21|\n",
      "| 10003|1959-12-03|     Parto|  Bamford|     M|1986-08-28|\n",
      "| 10004|1954-05-01| Chirstian|  Koblick|     M|1986-12-01|\n",
      "| 10005|1955-01-21|   Kyoichi| Maliniak|     M|1989-09-12|\n",
      "+------+----------+----------+---------+------+----------+\n",
      "only showing top 5 rows\n",
      "\n"
     ]
    }
   ],
   "source": [
    "## Show the first few rows of the employees data\n",
    "emp_df.show(5)"
   ]
  },
  {
   "cell_type": "code",
   "execution_count": 61,
   "id": "c7fabf1f-f9bf-4554-b65c-48771773c278",
   "metadata": {},
   "outputs": [
    {
     "name": "stdout",
     "output_type": "stream",
     "text": [
      "+------+------+-------+----------+----------+\n",
      "|emp_no|salary|dept_no| from_date|   to_date|\n",
      "+------+------+-------+----------+----------+\n",
      "| 10017| 71380|   d001|1993-08-03|1994-08-03|\n",
      "| 10017| 75538|   d001|1994-08-03|1995-08-03|\n",
      "| 10017| 79510|   d001|1995-08-03|1996-08-02|\n",
      "| 10017| 82163|   d001|1996-08-02|1997-08-02|\n",
      "| 10017| 86157|   d001|1997-08-02|1998-08-02|\n",
      "+------+------+-------+----------+----------+\n",
      "only showing top 5 rows\n",
      "\n"
     ]
    }
   ],
   "source": [
    "## Show the first few rows of the salaries data\n",
    "sal_df.show(5)"
   ]
  },
  {
   "cell_type": "code",
   "execution_count": 62,
   "id": "c3950863-3d2f-49ea-bb9a-3586570f535e",
   "metadata": {},
   "outputs": [
    {
     "name": "stdout",
     "output_type": "stream",
     "text": [
      "root\n",
      " |-- emp_no: integer (nullable = true)\n",
      " |-- birth_date: date (nullable = true)\n",
      " |-- first_name: string (nullable = true)\n",
      " |-- last_name: string (nullable = true)\n",
      " |-- gender: string (nullable = true)\n",
      " |-- hire_date: date (nullable = true)\n",
      "\n"
     ]
    }
   ],
   "source": [
    "## Print the schema for employees data\n",
    "emp_df.printSchema()"
   ]
  },
  {
   "cell_type": "code",
   "execution_count": 63,
   "id": "56f45eb2-beec-4e9e-9a1f-33d88c04841f",
   "metadata": {},
   "outputs": [
    {
     "name": "stdout",
     "output_type": "stream",
     "text": [
      "root\n",
      " |-- emp_no: integer (nullable = true)\n",
      " |-- salary: integer (nullable = true)\n",
      " |-- dept_no: string (nullable = true)\n",
      " |-- from_date: date (nullable = true)\n",
      " |-- to_date: date (nullable = true)\n",
      "\n"
     ]
    }
   ],
   "source": [
    "## Print the schema for salary data\n",
    "sal_df.printSchema()"
   ]
  },
  {
   "cell_type": "markdown",
   "id": "0812d9ee-e0a8-49f2-b6bc-bbb4ab853818",
   "metadata": {},
   "source": [
    "# Task Three: Clean and process the data\n",
    "In this task, you will perform quick data cleaning by converting variables to proper data types."
   ]
  },
  {
   "cell_type": "code",
   "execution_count": 64,
   "id": "8ae18cc0-f1f5-4b72-82fe-51995b4b3dec",
   "metadata": {},
   "outputs": [
    {
     "name": "stdout",
     "output_type": "stream",
     "text": [
      "root\n",
      " |-- emp_no: string (nullable = true)\n",
      " |-- birth_date: date (nullable = true)\n",
      " |-- first_name: string (nullable = true)\n",
      " |-- last_name: string (nullable = true)\n",
      " |-- gender: string (nullable = true)\n",
      " |-- hire_date: date (nullable = true)\n",
      "\n"
     ]
    }
   ],
   "source": [
    "from pyspark.sql.types import StringType\n",
    "\n",
    "## Cast the 'emp_no' column in the employees data to a string\n",
    "\n",
    "#emp_df=emp_df.withColumn(\"emp_no\",emp['emp_no'].cast(StringType()))\n",
    "emp_df=emp_df.withColumn(\"emp_no\",emp_df['emp_no'].cast('string'))\n",
    "\n",
    "## Print the updated schema\n",
    "emp_df.printSchema()"
   ]
  },
  {
   "cell_type": "code",
   "execution_count": 65,
   "id": "fa8470fe-fa25-45a9-a420-3c877db60a3d",
   "metadata": {
    "scrolled": true
   },
   "outputs": [
    {
     "name": "stdout",
     "output_type": "stream",
     "text": [
      "root\n",
      " |-- emp_no: string (nullable = true)\n",
      " |-- salary: integer (nullable = true)\n",
      " |-- dept_no: string (nullable = true)\n",
      " |-- from_date: date (nullable = true)\n",
      " |-- to_date: date (nullable = true)\n",
      "\n"
     ]
    }
   ],
   "source": [
    "## Chain transformations to cast 'emp_no' to string and 'to_date' & 'from_date' to date\n",
    "sal_df=sal_df.withColumn(\"emp_no\",sal_df['emp_no'].cast('string'))\\\n",
    "       .withColumn(\"to_date\",sal_df['to_date'].cast('date'))\\\n",
    "       .withColumn(\"from_date\",sal_df['from_date'].cast('date'))\n",
    "\n",
    "## Show the updated schema\n",
    "sal_df.printSchema()"
   ]
  },
  {
   "cell_type": "markdown",
   "id": "bf8b03eb-41e9-4b5b-9571-42e96b86cb15",
   "metadata": {},
   "source": [
    "# Task Four: Explore the data\n",
    "In this task, you will explore the salaries data by computing summary statistics and visualizing the salary column."
   ]
  },
  {
   "cell_type": "code",
   "execution_count": 66,
   "id": "1ae9845e-704a-4f06-9d63-530fa0d7d424",
   "metadata": {},
   "outputs": [
    {
     "name": "stderr",
     "output_type": "stream",
     "text": [
      "[Stage 120:============================>                            (1 + 1) / 2]\r"
     ]
    },
    {
     "name": "stdout",
     "output_type": "stream",
     "text": [
      "+------+------+-------+---------+-------+\n",
      "|emp_no|salary|dept_no|from_date|to_date|\n",
      "+------+------+-------+---------+-------+\n",
      "|     0|     0|      0|        0|      0|\n",
      "+------+------+-------+---------+-------+\n",
      "\n"
     ]
    },
    {
     "name": "stderr",
     "output_type": "stream",
     "text": [
      "                                                                                \r"
     ]
    }
   ],
   "source": [
    "## Create a sum of missing values per column in the salary data\n",
    "sal_df.select([sum(col(c).isNull().cast(\"int\")).alias(c) for c in sal_df.columns]).show()"
   ]
  },
  {
   "cell_type": "code",
   "execution_count": 67,
   "id": "0a55da30-a71a-46c3-9cfb-a94bf36a21ae",
   "metadata": {
    "scrolled": true
   },
   "outputs": [
    {
     "name": "stderr",
     "output_type": "stream",
     "text": [
      "                                                                                \r"
     ]
    },
    {
     "name": "stdout",
     "output_type": "stream",
     "text": [
      "Total rows in salary data: 1048575\n"
     ]
    },
    {
     "name": "stderr",
     "output_type": "stream",
     "text": [
      "[Stage 126:>                                                        (0 + 2) / 2]\r"
     ]
    },
    {
     "name": "stdout",
     "output_type": "stream",
     "text": [
      "Unique employees in salary data: 100412\n"
     ]
    },
    {
     "name": "stderr",
     "output_type": "stream",
     "text": [
      "                                                                                \r"
     ]
    }
   ],
   "source": [
    "## Create the summary statistics for the salary data\n",
    "\n",
    "print(f\"Total rows in salary data: {sal_df.count()}\")\n",
    "print(f\"Unique employees in salary data: {sal_df.select('emp_no').distinct().count()}\")\n"
   ]
  },
  {
   "cell_type": "code",
   "execution_count": 68,
   "id": "85285cb5-57f7-48fb-a55f-952981f18b80",
   "metadata": {},
   "outputs": [
    {
     "name": "stdout",
     "output_type": "stream",
     "text": [
      "Total rows in employee data : 300024\n"
     ]
    },
    {
     "name": "stderr",
     "output_type": "stream",
     "text": [
      "                                                                                \r"
     ]
    },
    {
     "name": "stdout",
     "output_type": "stream",
     "text": [
      "Unique employees in employee data: 300024\n",
      "Unique employees in employee data: 1275\n"
     ]
    }
   ],
   "source": [
    "## Count total rows and unique employees in salary data\n",
    "print(f\"Total rows in employee data : {emp_df.count()}\")\n",
    "print(f\"Unique employees in employee data: {emp_df.select('emp_no').distinct().count()}\")\n",
    "print(f\"Unique employees in employee data: {emp_df.select('first_name').distinct().count()}\")"
   ]
  },
  {
   "cell_type": "code",
   "execution_count": 69,
   "id": "da2fac36-e51e-4da2-a5ad-6ba362709bc5",
   "metadata": {},
   "outputs": [
    {
     "name": "stderr",
     "output_type": "stream",
     "text": [
      "                                                                                \r"
     ]
    },
    {
     "data": {
      "image/png": "[encoded data removed]",
      "text/plain": [
       "<Figure size 640x480 with 1 Axes>"
      ]
     },
     "metadata": {},
     "output_type": "display_data"
    }
   ],
   "source": [
    "## Plot the salary distribution\n",
    "sal_df_pandas=sal_df.toPandas()\n",
    "sns.histplot(sal_df_pandas['salary'])\n",
    "plt.title(\"salary Distribution\")\n",
    "plt.show()"
   ]
  },
  {
   "cell_type": "markdown",
   "id": "50d48859-39f7-4967-85b6-53c08fa3568f",
   "metadata": {},
   "source": [
    "# Practice Activity One: Explore the data"
   ]
  },
  {
   "cell_type": "code",
   "execution_count": 70,
   "id": "e6487ce1-b885-4ada-b44e-6fcf3bff48e2",
   "metadata": {},
   "outputs": [
    {
     "name": "stderr",
     "output_type": "stream",
     "text": [
      "[Stage 148:============================>                            (1 + 1) / 2]\r"
     ]
    },
    {
     "name": "stdout",
     "output_type": "stream",
     "text": [
      "+------+----------+----------+---------+------+---------+\n",
      "|emp_no|birth_date|first_name|last_name|gender|hire_date|\n",
      "+------+----------+----------+---------+------+---------+\n",
      "|     0|         0|         0|        0|     0|        0|\n",
      "+------+----------+----------+---------+------+---------+\n",
      "\n"
     ]
    },
    {
     "name": "stderr",
     "output_type": "stream",
     "text": [
      "                                                                                \r"
     ]
    }
   ],
   "source": [
    "## Create a sum of missing values per column in the employees data\n",
    "emp_df.select([sum(col(c).isNull().cast('int')).alias(c) for c in emp_df.columns]).show()\n"
   ]
  },
  {
   "cell_type": "code",
   "execution_count": 71,
   "id": "70795dbd-e31d-49b6-9c5b-8797a6fd17a2",
   "metadata": {},
   "outputs": [
    {
     "name": "stdout",
     "output_type": "stream",
     "text": [
      "300024\n"
     ]
    }
   ],
   "source": [
    "## Count the number of rows in the employees data\n",
    "print(emp_df.count())"
   ]
  },
  {
   "cell_type": "code",
   "execution_count": 72,
   "id": "5ab36f36-0b27-4b94-9464-010b8bd73238",
   "metadata": {},
   "outputs": [
    {
     "data": {
      "text/plain": [
       "1275"
      ]
     },
     "execution_count": 72,
     "metadata": {},
     "output_type": "execute_result"
    }
   ],
   "source": [
    "## How many different first names can be found in the employees data?\n",
    "emp_df.select('first_name').distinct().count()"
   ]
  },
  {
   "cell_type": "markdown",
   "id": "f73f0f7a-2a23-4ac8-b4b3-e16f8e89c312",
   "metadata": {},
   "source": [
    "# Task Five: Aggregate and summarize the data\n",
    "In this task, you will perform data aggregation and summarization using the salaries data."
   ]
  },
  {
   "cell_type": "code",
   "execution_count": 73,
   "id": "6bebf7cb-6e44-423d-80ff-b2da279c8142",
   "metadata": {
    "scrolled": true
   },
   "outputs": [
    {
     "name": "stderr",
     "output_type": "stream",
     "text": [
      "[Stage 160:>                                                        (0 + 2) / 2]\r"
     ]
    },
    {
     "name": "stdout",
     "output_type": "stream",
     "text": [
      "+-------+------------------+\n",
      "|dept_no|       avg(salary)|\n",
      "+-------+------------------+\n",
      "|   d005| 59503.57499466995|\n",
      "|   d003|55353.520326471196|\n",
      "|   d001| 71901.72367418648|\n",
      "|   d004| 59539.78990774039|\n",
      "|   d002| 70159.46621971931|\n",
      "+-------+------------------+\n",
      "only showing top 5 rows\n",
      "\n"
     ]
    },
    {
     "name": "stderr",
     "output_type": "stream",
     "text": [
      "                                                                                \r"
     ]
    }
   ],
   "source": [
    "## Group the data and calculate the average salary for each department\n",
    "df_summary=sal_df.groupBy(\"dept_no\").agg({\"salary\":\"avg\"})\n",
    "df_summary.show(5)"
   ]
  },
  {
   "cell_type": "code",
   "execution_count": 74,
   "id": "993ae615-4034-4114-82e7-d3f0a9dffe7f",
   "metadata": {},
   "outputs": [
    {
     "name": "stderr",
     "output_type": "stream",
     "text": [
      "[Stage 163:============================>                            (1 + 1) / 2]\r"
     ]
    },
    {
     "name": "stdout",
     "output_type": "stream",
     "text": [
      "+-------+--------------+----------+--------------+\n",
      "|dept_no|average_salary|max_salary|total_employee|\n",
      "+-------+--------------+----------+--------------+\n",
      "|   d005|      59503.57|    144434|         29085|\n",
      "|   d009|      58678.99|    144866|          5910|\n",
      "|   d003|      55353.52|    123674|          6104|\n",
      "|   d001|      71901.72|    143644|          6741|\n",
      "|   d007|      80776.62|    158220|         17682|\n",
      "|   d004|      59539.79|    132552|         25027|\n",
      "|   d002|      70159.47|    134662|          5907|\n",
      "|   d006|      57294.66|    122376|          6751|\n",
      "|   d008|      59866.24|    124181|          7147|\n",
      "+-------+--------------+----------+--------------+\n",
      "\n"
     ]
    },
    {
     "name": "stderr",
     "output_type": "stream",
     "text": [
      "                                                                                \r"
     ]
    }
   ],
   "source": [
    "## Get the average salary and number of employees in each department\n",
    "dept_summary=sal_df.groupBy(\"dept_no\").agg(\n",
    "    round(avg ('salary'),2).alias('average_salary'),\n",
    "    max ('salary').alias('max_salary') ,\n",
    "    countDistinct(\"emp_no\").alias(\"total_employee\")\n",
    ")\n",
    "dept_summary.show()"
   ]
  },
  {
   "cell_type": "code",
   "execution_count": 75,
   "id": "9ea7a016-d1f4-41fa-88ba-ae9765bc9ec9",
   "metadata": {},
   "outputs": [
    {
     "name": "stderr",
     "output_type": "stream",
     "text": [
      "                                                                                \r"
     ]
    },
    {
     "data": {
      "image/png": "[encoded data removed]",
      "text/plain": [
       "<Figure size 640x480 with 1 Axes>"
      ]
     },
     "metadata": {},
     "output_type": "display_data"
    }
   ],
   "source": [
    "## Convert Spark data frame  to Pandas for visualization\n",
    "dept_summary_df = dept_summary.toPandas()\n",
    "\n",
    "## Plot the data\n",
    "dept_summary_df.plot(kind=\"bar\",x=\"dept_no\",y=\"total_employee\",title=\"employee count fepartment\",legend=False)\n",
    "plt.show()"
   ]
  },
  {
   "cell_type": "code",
   "execution_count": 102,
   "id": "73f13853-b247-4493-a892-785be265fded",
   "metadata": {
    "scrolled": true
   },
   "outputs": [
    {
     "name": "stdout",
     "output_type": "stream",
     "text": [
      "+------+--------------+\n",
      "|emp_no|average_salary|\n",
      "+------+--------------+\n",
      "|109334|     141835.33|\n",
      "| 43624|     138492.94|\n",
      "| 37558|     138215.86|\n",
      "| 46439|     135747.73|\n",
      "| 98169|     134374.81|\n",
      "|102962|     134075.82|\n",
      "| 44188|     132560.67|\n",
      "| 66793|     132440.17|\n",
      "| 51531|     132186.43|\n",
      "| 47978|     131890.22|\n",
      "| 80823|      131565.0|\n",
      "| 39964|     131024.33|\n",
      "| 53402|     129764.38|\n",
      "| 56012|     129462.88|\n",
      "| 91935|     129329.53|\n",
      "| 89825|     129105.18|\n",
      "| 41822|     128835.69|\n",
      "| 36219|     128735.25|\n",
      "| 18006|      128619.2|\n",
      "| 18997|      128594.0|\n",
      "+------+--------------+\n",
      "only showing top 20 rows\n",
      "\n"
     ]
    }
   ],
   "source": [
    "## Retrieve a list of employee numbers and the average salary.\n",
    "## Make sure that you return where the average salary is more than $120,000\n",
    "\n",
    "## Group by employee number and calculate the average salary\n",
    "## Get the average salary and number of employees in each department\n",
    "esp_avg_salary=sal_df.groupBy(\"emp_no\")\\\n",
    "    .agg(round(avg ('salary'),2).alias('average_salary'))\\\n",
    "    .filter(col(\"average_salary\")>120000)\\\n",
    "    .orderBy(col(\"average_salary\").desc())\n",
    "\n",
    "\n",
    "\n",
    "\n",
    "\n",
    "## Order in descending order of average_salary\n",
    "\n",
    "\n",
    "## Show the result\n",
    "esp_avg_salary.show()"
   ]
  },
  {
   "cell_type": "markdown",
   "id": "fa860eae-8548-415c-bc52-e6ace6028f16",
   "metadata": {},
   "source": [
    "# Task Six: Join the data sets\n",
    "In this task, you will join the salaries and employees data using the employees number."
   ]
  },
  {
   "cell_type": "code",
   "execution_count": 24,
   "id": "1ace7be7-7f65-4f3f-a0ab-eabbedb8f025",
   "metadata": {
    "scrolled": true
   },
   "outputs": [
    {
     "name": "stdout",
     "output_type": "stream",
     "text": [
      "+------+----------+----------+---------+------+----------+---+\n",
      "|emp_no|birth_date|first_name|last_name|gender| hire_date|age|\n",
      "+------+----------+----------+---------+------+----------+---+\n",
      "| 10001|1953-09-02|    Georgi|  Facello|     M|1986-06-26| 33|\n",
      "| 10002|1964-06-02|   Bezalel|   Simmel|     F|1985-11-21| 21|\n",
      "| 10003|1959-12-03|     Parto|  Bamford|     M|1986-08-28| 27|\n",
      "| 10004|1954-05-01| Chirstian|  Koblick|     M|1986-12-01| 32|\n",
      "| 10005|1955-01-21|   Kyoichi| Maliniak|     M|1989-09-12| 34|\n",
      "+------+----------+----------+---------+------+----------+---+\n",
      "only showing top 5 rows\n",
      "\n"
     ]
    }
   ],
   "source": [
    "from pyspark.sql import functions as F\n",
    "\n",
    "## Create an age column in the employees data\n",
    "## Age when the employee was hired\n",
    "emp_df = emp_df.withColumn(\"age\", F.year(F.col(\"hire_date\")) - F.year(F.col(\"birth_date\")))\n",
    "emp_df.show(5)"
   ]
  },
  {
   "cell_type": "code",
   "execution_count": 28,
   "id": "b692b74e-bfb3-4ad4-9917-0627efa3870f",
   "metadata": {},
   "outputs": [
    {
     "name": "stderr",
     "output_type": "stream",
     "text": [
      "[Stage 66:>                                                         (0 + 2) / 2]\r"
     ]
    },
    {
     "name": "stdout",
     "output_type": "stream",
     "text": [
      "+------+------+-------+----------+----------+----------+----------+--------------+------+----------+---+\n",
      "|emp_no|salary|dept_no| from_date|   to_date|birth_date|first_name|     last_name|gender| hire_date|age|\n",
      "+------+------+-------+----------+----------+----------+----------+--------------+------+----------+---+\n",
      "|100000| 41408|   d008|1991-07-02|1992-07-01|1956-01-11|  Hiroyasu|         Emden|     M|1991-07-02| 35|\n",
      "|100000| 43119|   d008|1992-07-01|1993-07-01|1956-01-11|  Hiroyasu|         Emden|     M|1991-07-02| 35|\n",
      "|100000| 46991|   d008|1993-07-01|1994-07-01|1956-01-11|  Hiroyasu|         Emden|     M|1991-07-02| 35|\n",
      "|100000| 48751|   d008|1994-07-01|1995-07-01|1956-01-11|  Hiroyasu|         Emden|     M|1991-07-02| 35|\n",
      "|100000| 52001|   d008|1995-07-01|1996-06-30|1956-01-11|  Hiroyasu|         Emden|     M|1991-07-02| 35|\n",
      "|100000| 51503|   d008|1996-06-30|1997-06-30|1956-01-11|  Hiroyasu|         Emden|     M|1991-07-02| 35|\n",
      "|100000| 52930|   d008|1997-06-30|1998-06-30|1956-01-11|  Hiroyasu|         Emden|     M|1991-07-02| 35|\n",
      "|100000| 54693|   d008|1998-06-30|1999-06-30|1956-01-11|  Hiroyasu|         Emden|     M|1991-07-02| 35|\n",
      "|100000| 55956|   d008|1999-06-30|2000-06-29|1956-01-11|  Hiroyasu|         Emden|     M|1991-07-02| 35|\n",
      "|100000| 59534|   d008|2000-06-29|2001-06-29|1956-01-11|  Hiroyasu|         Emden|     M|1991-07-02| 35|\n",
      "|100000| 61633|   d008|2001-06-29|2002-06-29|1956-01-11|  Hiroyasu|         Emden|     M|1991-07-02| 35|\n",
      "|100000| 64961|   d008|2002-06-29|9999-01-01|1956-01-11|  Hiroyasu|         Emden|     M|1991-07-02| 35|\n",
      "|100001| 40000|   d005|1999-07-17|2000-07-15|1953-02-07|  Jasminko|Antonakopoulos|     M|1994-12-25| 41|\n",
      "|100001| 40651|   d005|2000-07-15|2001-07-15|1953-02-07|  Jasminko|Antonakopoulos|     M|1994-12-25| 41|\n",
      "|100001| 41952|   d005|2001-07-15|2002-07-15|1953-02-07|  Jasminko|Antonakopoulos|     M|1994-12-25| 41|\n",
      "|100001| 42707|   d005|2002-07-15|9999-01-01|1953-02-07|  Jasminko|Antonakopoulos|     M|1994-12-25| 41|\n",
      "|100001| 40000|   d008|1999-07-17|2000-07-15|1953-02-07|  Jasminko|Antonakopoulos|     M|1994-12-25| 41|\n",
      "|100001| 40651|   d008|2000-07-15|2001-07-15|1953-02-07|  Jasminko|Antonakopoulos|     M|1994-12-25| 41|\n",
      "|100001| 41952|   d008|2001-07-15|2002-07-15|1953-02-07|  Jasminko|Antonakopoulos|     M|1994-12-25| 41|\n",
      "|100001| 42707|   d008|2002-07-15|9999-01-01|1953-02-07|  Jasminko|Antonakopoulos|     M|1994-12-25| 41|\n",
      "+------+------+-------+----------+----------+----------+----------+--------------+------+----------+---+\n",
      "only showing top 20 rows\n",
      "\n"
     ]
    },
    {
     "name": "stderr",
     "output_type": "stream",
     "text": [
      "                                                                                \r"
     ]
    }
   ],
   "source": [
    "## Join salaries and employees data on 'emp_no'\n",
    "emp_data=sal_df.join(emp_df,on=\"emp_no\",how='left')\n",
    "emp_data=emp_data.orderBy(\"emp_no\")\n",
    "emp_data.show()"
   ]
  },
  {
   "cell_type": "code",
   "execution_count": 34,
   "id": "006d3a34-614e-4fb8-bf6c-e2bd2ce551e4",
   "metadata": {},
   "outputs": [
    {
     "name": "stderr",
     "output_type": "stream",
     "text": [
      "[Stage 78:>                                                         (0 + 2) / 2]\r"
     ]
    },
    {
     "name": "stdout",
     "output_type": "stream",
     "text": [
      "+------+----------+--------------+----------+---+--------------+\n",
      "|emp_no|first_name|     last_name| hire_date|age|average_salary|\n",
      "+------+----------+--------------+----------+---+--------------+\n",
      "|109334|   Tsutomu|     Alameldin|1985-02-15| 30|     141835.33|\n",
      "| 43624|  Tokuyasu|         Pesch|1985-03-26| 32|     138492.94|\n",
      "| 37558| Juichirou|   Thambidurai|1989-02-23| 26|     138215.86|\n",
      "| 46439|    Ibibia|         Junet|1985-05-20| 32|     135747.73|\n",
      "| 98169|   Bedrich|          Luft|1987-01-20| 35|     134374.81|\n",
      "|102962| Chirstian|        Kobara|1985-09-24| 31|     134075.82|\n",
      "| 44188|   Slavian|          Peac|1991-03-16| 31|     132560.67|\n",
      "| 66793|   Lansing|        Kambil|1985-06-20| 21|     132440.17|\n",
      "| 51531|     Clyde|Georgakopoulos|1987-05-17| 26|     132186.43|\n",
      "| 47978|    Xiahua|      Whitcomb|1985-07-18| 29|     131890.22|\n",
      "| 80823|   Willard|          Baca|1985-02-26| 22|      131565.0|\n",
      "| 39964|  Almudena|        Dratva|1991-04-06| 28|     131024.33|\n",
      "| 53402|    Houman|       Worfolk|1986-11-05| 27|     129764.38|\n",
      "| 56012|    Lucien| Schlegelmilch|1987-07-20| 28|     129462.88|\n",
      "| 91935|   Oldrich|          Unni|1988-01-30| 27|     129329.53|\n",
      "| 89825|    Ingmar|         Isard|1986-05-23| 34|     129105.18|\n",
      "| 41822|    Lihong|      Brookner|1990-05-08| 34|     128835.69|\n",
      "| 36219|    Vivian|      Minakawa|1987-07-29| 23|     128735.25|\n",
      "| 18006|     Vidya|      Hanabata|1987-09-03| 34|      128619.2|\n",
      "| 18997|     Basim|   Tischendorf|1990-02-22| 32|      128594.0|\n",
      "+------+----------+--------------+----------+---+--------------+\n",
      "only showing top 20 rows\n",
      "\n"
     ]
    },
    {
     "name": "stderr",
     "output_type": "stream",
     "text": [
      "                                                                                \r"
     ]
    }
   ],
   "source": [
    "## Retrieve a list of employee numbers and the average salary.\n",
    "## Make sure that you return where the average salary is more than $120,000\n",
    "\n",
    "## Group by employee number and calculate the average salary\n",
    "emp_salary_summary = emp_data.groupBy(\"emp_no\") \\\n",
    "    .agg(round(avg(\"salary\"), 2).alias(\"average_salary\")) \\\n",
    "    .filter(col(\"average_salary\") > 120000)\n",
    "\n",
    "## Join the aggregated result back with the original employee data to get first_name, last_name, hire_date\n",
    "emp_salary_summary = emp_salary_summary.join(emp_data, on=\"emp_no\", how=\"left\") \\\n",
    "    .select(\"emp_no\", \"first_name\", \"last_name\", \"hire_date\", \"age\", \"average_salary\") \\\n",
    "    .dropDuplicates([\"emp_no\"]) \\\n",
    "    .orderBy(col(\"average_salary\").desc())\n",
    "\n",
    "emp_salary_summary.show()"
   ]
  },
  {
   "cell_type": "markdown",
   "id": "966a831e-ba55-4e3b-93d8-e7de726d9091",
   "metadata": {},
   "source": [
    "# Cumulative Activity: Analyze employees' retention\n",
    "\n",
    "As a junior data analyst at a growing company, you are tasked with analyzing employee retention. Your aim is to find departments with the highest amount of employees that have worked longer than ten years. This will assist HR in enhancing employees' engagement and retention strategies. \n",
    "\n",
    "To complete this activity, you will use the employee dataset and create a data frame with the employee totals in each department for a period over 10 years (calculated by from_date and to_date).  Finally, you'll visualize how long-term employees are spread across departments via a bar chart."
   ]
  },
  {
   "cell_type": "code",
   "execution_count": 47,
   "id": "325d89db-5b94-4f43-9501-e53977ffbc5f",
   "metadata": {},
   "outputs": [
    {
     "name": "stderr",
     "output_type": "stream",
     "text": [
      "[Stage 83:>                                                         (0 + 1) / 1]\r"
     ]
    },
    {
     "name": "stdout",
     "output_type": "stream",
     "text": [
      "+------+-------+------------------+\n",
      "|emp_no|dept_no|total_worked_years|\n",
      "+------+-------+------------------+\n",
      "|100000|   d008| 8012.821917808219|\n",
      "|100001|   d005| 8004.775342465753|\n",
      "|100001|   d008| 8004.775342465753|\n",
      "|100002|   d008| 8016.186301369863|\n",
      "|100003|   d005| 9.791780821917808|\n",
      "|100004|   d007| 8004.287671232877|\n",
      "|100005|   d007| 8004.709589041096|\n",
      "|100006|   d004|  8018.28493150685|\n",
      "|100007|   d007|8013.2054794520545|\n",
      "|100008|   d005| 10.07123287671233|\n",
      "|100009|   d007|8004.8876712328765|\n",
      "| 10001|   d005|8017.8410958904105|\n",
      "|100010|   d004| 8012.564383561644|\n",
      "|100011|   d004| 8014.427397260274|\n",
      "|100012|   d004| 8007.265753424657|\n",
      "|100013|   d005| 8018.052054794521|\n",
      "|100014|   d004| 9.857534246575343|\n",
      "|100015|   d008|  8012.71506849315|\n",
      "|100016|   d007|8015.8410958904105|\n",
      "|100018|   d007|  7.36986301369863|\n",
      "+------+-------+------------------+\n",
      "only showing top 20 rows\n",
      "\n"
     ]
    },
    {
     "name": "stderr",
     "output_type": "stream",
     "text": [
      "                                                                                \r"
     ]
    }
   ],
   "source": [
    "from pyspark.sql import functions as F\n",
    "\n",
    "## Calculate the years worked based on the difference between 'to_date' and 'from_date'\n",
    "emp_data = emp_data.withColumn(\"years_worked\", (F.datediff(F.col(\"to_date\"), F.col(\"from_date\")) / 365))\n",
    "\n",
    "\n",
    "\n",
    "\n",
    "# # Group by emp_no and dept_no to sum the years worked\n",
    "emp_agg=emp_data.groupBy(\"emp_no\",\"dept_no\")\\\n",
    ".agg(F.sum(\"years_worked\").alias('total_worked_years'))\n",
    "\n",
    "emp_agg.show()"
   ]
  },
  {
   "cell_type": "code",
   "execution_count": 50,
   "id": "bade01c7-f7ba-4d51-b00b-3c1c02c51399",
   "metadata": {},
   "outputs": [
    {
     "name": "stderr",
     "output_type": "stream",
     "text": [
      "[Stage 93:>                                                         (0 + 2) / 2]\r"
     ]
    },
    {
     "name": "stdout",
     "output_type": "stream",
     "text": [
      "+-------+------------------+\n",
      "|dept_no|long_term_employee|\n",
      "+-------+------------------+\n",
      "|   d005|             23959|\n",
      "|   d009|              4842|\n",
      "|   d003|              5063|\n",
      "|   d001|              5603|\n",
      "|   d007|             14576|\n",
      "|   d004|             20653|\n",
      "|   d002|              4846|\n",
      "|   d006|              5576|\n",
      "|   d008|              5909|\n",
      "+-------+------------------+\n",
      "\n"
     ]
    },
    {
     "name": "stderr",
     "output_type": "stream",
     "text": [
      "                                                                                \r"
     ]
    }
   ],
   "source": [
    "## Filter employees who have worked more than 10 years\n",
    "long_term=emp_agg.filter(col('total_worked_years')>10)\n",
    "\n",
    "## Group by department and count distinct employees who worked more than 10 years\n",
    "long_term_count=long_term.groupBy('dept_no').agg(F.countDistinct(\"emp_no\").alias(\"long_term_employee\"))\n",
    "\n",
    "## Show the result\n",
    "long_term_count.show()"
   ]
  },
  {
   "cell_type": "code",
   "execution_count": 80,
   "id": "72289f86-e758-4777-bd40-8524ecd38c3a",
   "metadata": {},
   "outputs": [
    {
     "data": {
      "image/png": "[encoded data removed]",
      "text/plain": [
       "<Figure size 1000x600 with 1 Axes>"
      ]
     },
     "metadata": {},
     "output_type": "display_data"
    }
   ],
   "source": [
    "## Convert the Spark data frame to Pandas for visualization\n",
    "long_term_count_pandas=long_term_count.toPandas()\n",
    "\n",
    "## Create a bar chart to visualize the distribution of long-term employees across departments\n",
    "plt.figure(figsize=(10, 6))\n",
    "plt.bar(long_term_count_pandas['dept_no'], long_term_count_pandas['long_term_employee'], color='lightblue')\n",
    "plt.title(\"Distribution of Long-Term Employees Across Departments\")\n",
    "plt.xlabel(\"Department\")\n",
    "plt.ylabel(\"Number of Long-Term Employees\")\n",
    "plt.xticks(rotation=45, ha='right')\n",
    "plt.tight_layout()\n",
    "plt.show()"
   ]
  },
  {
   "cell_type": "code",
   "execution_count": null,
   "id": "383ab51f-d191-41d0-b846-214ffea74d55",
   "metadata": {},
   "outputs": [],
   "source": []
  }
 ],
 "metadata": {
  "kernelspec": {
   "display_name": "Python 3",
   "language": "python",
   "name": "python3"
  },
  "language_info": {
   "codemirror_mode": {
    "name": "ipython",
    "version": 3
   },
   "file_extension": ".py",
   "mimetype": "text/x-python",
   "name": "python",
   "nbconvert_exporter": "python",
   "pygments_lexer": "ipython3",
   "version": "3.10.12"
  }
 },
 "nbformat": 4,
 "nbformat_minor": 5
}
